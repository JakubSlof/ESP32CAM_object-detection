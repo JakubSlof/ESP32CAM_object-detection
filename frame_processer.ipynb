{
 "cells": [
  {
   "cell_type": "code",
   "execution_count": 10,
   "metadata": {},
   "outputs": [],
   "source": [
    "from ultralytics import YOLO\n",
    "import numpy as np\n",
    "import cv2 \n",
    "import cvzone"
   ]
  },
  {
   "cell_type": "code",
   "execution_count": 11,
   "metadata": {},
   "outputs": [],
   "source": [
    "searched_object = 'pottedplant' #nazev objektu z coco.names co chci najit \n",
    "vid_width = 640#sirka vide\n",
    "vid_height = 480#vyska videa "
   ]
  },
  {
   "cell_type": "code",
   "execution_count": 12,
   "metadata": {},
   "outputs": [],
   "source": [
    "classesfile='/home/robko/git/ESP32CAM_object-detection/coco.names'\n",
    "classNames=[]\n",
    "with open(classesfile,'rt') as f:\n",
    "    classNames=f.read().rstrip('\\n').split('\\n')"
   ]
  },
  {
   "cell_type": "code",
   "execution_count": 13,
   "metadata": {},
   "outputs": [],
   "source": [
    "model = YOLO('yolov8n.pt')#v praxi pouzijeme jen nano a small"
   ]
  },
  {
   "cell_type": "code",
   "execution_count": 14,
   "metadata": {},
   "outputs": [
    {
     "data": {
      "text/plain": [
       "True"
      ]
     },
     "execution_count": 14,
     "metadata": {},
     "output_type": "execute_result"
    }
   ],
   "source": [
    "cap = cv2.VideoCapture(1)#nacte video z kamery do promene\n",
    "cap.set(3,vid_width)#sirka okna s videem\n",
    "cap.set(4,vid_height)#vyska okna s videem"
   ]
  },
  {
   "cell_type": "code",
   "execution_count": 15,
   "metadata": {},
   "outputs": [
    {
     "name": "stdout",
     "output_type": "stream",
     "text": [
      "58\n"
     ]
    }
   ],
   "source": [
    "object_id = classNames.index(searched_object)# zjisti class id objektu co hledam\n",
    "print(object_id)"
   ]
  },
  {
   "cell_type": "code",
   "execution_count": 16,
   "metadata": {},
   "outputs": [
    {
     "name": "stderr",
     "output_type": "stream",
     "text": [
      "\n",
      "0: 480x640 (no detections), 2267.3ms\n",
      "Speed: 16.8ms preprocess, 2267.3ms inference, 4.8ms postprocess per image at shape (1, 3, 480, 640)\n"
     ]
    }
   ],
   "source": [
    "#img = cv2.imread(filename)\n",
    "sucess, img = cap.read()\n",
    "results = model(img)"
   ]
  },
  {
   "cell_type": "code",
   "execution_count": 17,
   "metadata": {},
   "outputs": [],
   "source": [
    "for r in results:\n",
    "        boxes = r.boxes\n",
    "        cv2.line(img,(int(vid_width/2),0),(int(vid_width/2),vid_height),(255,0,255),thickness=2 )#vykresli na video primku stredem videa \n",
    "        for box in boxes:\n",
    "            cls = int(box.cls[0])#zjisti classu objektu\n",
    "            if object_id == cls:#pokud se claasa objektu shoduje s objektem co hledam stane se nasledujici\n",
    "                #bounding boxes\n",
    "                x1,y1,x2,y2 = box.xyxy [0] #x1 je pozice leveho horniho rohu objektu v ose x, x2 je velikost objektu v ose x v px \n",
    "                x1,y1,x2,y2 = int(x1),int(y1),int(x2),int(y2)#prevedeni hodnot na int pro lepsi praci s nima \n",
    "                print('X=',x1,'Y=',y1,'W=',x2,'H=',y2)#vypisuje velikost objektu a jeho polohu v px \n",
    "                cv2.rectangle(img,(x1,y1),(x2,y2),(255,0,255),3)#nakresli box okolo detekovane veci \n",
    "                #model confidence\n",
    "                conf = box.conf[0]#jistota modelu \n",
    "                conf = float(conf*100)\n",
    "                rounded_conf = int(conf)#zaokrouhli jistotu modelu na dve desetina mista \n",
    "                print('confidence:',rounded_conf)\n",
    "                #claasnames\n",
    "                cls = int(box.cls[0])#ulozi classu daneho objektu do promenne \n",
    "                print(classNames[cls])#vypise klassu objektu\n",
    "                #object center \n",
    "                center_x,center_y = x1+(x2/2),y1+(y2/2)#vypocet stredu objektu pro lepsi lokalizaci medveda \n",
    "                center_x,center_y = int(center_x-x1/2), int(center_y-y1/2)#prevede hodnoty na int aby se dali pouzit ve funkci ukazujici stred \n",
    "                print('center:',center_x,center_y)#vypise udaje \n",
    "                cv2.circle(img, (center_x,center_y),10, (255,0,255), thickness=-1)\n",
    "                #box on bounding box s nazvem claasy a confidence modelu \n",
    "                cvzone.putTextRect(img, f'{classNames[cls]}{rounded_conf}',(max(0,x1), max(35,y1)))#vykresli nazev classy objektu spolecne s confidence do videa \n",
    "                #vypocet odchylky objektu \n",
    "                object_deviation =0\n",
    "                center_line = int(vid_width/2)# x souradnice primky zobrazujici stred \n",
    "                death_zone = 50#ukazuje jak velke rozpeti v px se pocita jako stred \n",
    "                if (center_x > (center_line - death_zone)) and (center_x < (center_line + death_zone)): #pokud je objekt +-50px ve stredu je to brano jako ze je rovne \n",
    "                    object_deviation = 0#odchylka objektu od stredu obrazovky\n",
    "                    print('deviation = ',object_deviation)\n",
    "                if (center_x < (center_line - death_zone)) and (center_x > (center_line + death_zone)): #pokud je objekt +-50px od stredu zacne se pocitat odchylka -doprava +doleva \n",
    "                    object_deviation = center_line-center_x #odchylka objektu od stredu obrazovky\n",
    "                    print('deviation = ',object_deviation) \n",
    "                #prevod odchylky do stupnu \n",
    "                deviation_deg = float(object_deviation/100)\n",
    "                print(deviation_deg,\"degrees\")\n",
    "            if (cls > object_id) and (cls < object_id):\n",
    "                print('vrong object')\n",
    "            else:\n",
    "                print(\"no objects found turn robot\")"
   ]
  },
  {
   "cell_type": "code",
   "execution_count": 18,
   "metadata": {},
   "outputs": [
    {
     "data": {
      "text/plain": [
       "-1"
      ]
     },
     "execution_count": 18,
     "metadata": {},
     "output_type": "execute_result"
    },
    {
     "ename": "",
     "evalue": "",
     "output_type": "error",
     "traceback": [
      "\u001b[1;31mThe Kernel crashed while executing code in the the current cell or a previous cell. Please review the code in the cell(s) to identify a possible cause of the failure. Click <a href='https://aka.ms/vscodeJupyterKernelCrash'>here</a> for more info. View Jupyter <a href='command:jupyter.viewOutput'>log</a> for further details."
     ]
    }
   ],
   "source": [
    " cv2.imshow('footage',img)#zobrazi frame\n",
    " cv2.waitKey(2000)"
   ]
  }
 ],
 "metadata": {
  "kernelspec": {
   "display_name": "Python 3",
   "language": "python",
   "name": "python3"
  },
  "language_info": {
   "codemirror_mode": {
    "name": "ipython",
    "version": 3
   },
   "file_extension": ".py",
   "mimetype": "text/x-python",
   "name": "python",
   "nbconvert_exporter": "python",
   "pygments_lexer": "ipython3",
   "version": "3.9.2"
  },
  "orig_nbformat": 4
 },
 "nbformat": 4,
 "nbformat_minor": 2
}
